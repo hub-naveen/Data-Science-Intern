{
 "cells": [
  {
   "cell_type": "markdown",
   "id": "c343db56-4502-43fc-a54b-cb6bca904d8a",
   "metadata": {},
   "source": [
    "# Descriptive Analysis"
   ]
  },
  {
   "cell_type": "code",
   "execution_count": 1,
   "id": "d8a9ab82-df2d-4ba2-adf1-6757eb0cf793",
   "metadata": {},
   "outputs": [
    {
     "name": "stdout",
     "output_type": "stream",
     "text": [
      "Descriptive statistics for numerical columns:\n"
     ]
    },
    {
     "data": {
      "text/html": [
       "<div>\n",
       "<style scoped>\n",
       "    .dataframe tbody tr th:only-of-type {\n",
       "        vertical-align: middle;\n",
       "    }\n",
       "\n",
       "    .dataframe tbody tr th {\n",
       "        vertical-align: top;\n",
       "    }\n",
       "\n",
       "    .dataframe thead th {\n",
       "        text-align: right;\n",
       "    }\n",
       "</style>\n",
       "<table border=\"1\" class=\"dataframe\">\n",
       "  <thead>\n",
       "    <tr style=\"text-align: right;\">\n",
       "      <th></th>\n",
       "      <th>Restaurant ID</th>\n",
       "      <th>Country Code</th>\n",
       "      <th>Longitude</th>\n",
       "      <th>Latitude</th>\n",
       "      <th>Average Cost for two</th>\n",
       "      <th>Price range</th>\n",
       "      <th>Aggregate rating</th>\n",
       "      <th>Votes</th>\n",
       "    </tr>\n",
       "  </thead>\n",
       "  <tbody>\n",
       "    <tr>\n",
       "      <th>count</th>\n",
       "      <td>9.551000e+03</td>\n",
       "      <td>9551.000000</td>\n",
       "      <td>9551.000000</td>\n",
       "      <td>9551.000000</td>\n",
       "      <td>9551.000000</td>\n",
       "      <td>9551.000000</td>\n",
       "      <td>9551.000000</td>\n",
       "      <td>9551.000000</td>\n",
       "    </tr>\n",
       "    <tr>\n",
       "      <th>mean</th>\n",
       "      <td>9.051128e+06</td>\n",
       "      <td>18.365616</td>\n",
       "      <td>64.126574</td>\n",
       "      <td>25.854381</td>\n",
       "      <td>1199.210763</td>\n",
       "      <td>1.804837</td>\n",
       "      <td>2.666370</td>\n",
       "      <td>156.909748</td>\n",
       "    </tr>\n",
       "    <tr>\n",
       "      <th>std</th>\n",
       "      <td>8.791521e+06</td>\n",
       "      <td>56.750546</td>\n",
       "      <td>41.467058</td>\n",
       "      <td>11.007935</td>\n",
       "      <td>16121.183073</td>\n",
       "      <td>0.905609</td>\n",
       "      <td>1.516378</td>\n",
       "      <td>430.169145</td>\n",
       "    </tr>\n",
       "    <tr>\n",
       "      <th>min</th>\n",
       "      <td>5.300000e+01</td>\n",
       "      <td>1.000000</td>\n",
       "      <td>-157.948486</td>\n",
       "      <td>-41.330428</td>\n",
       "      <td>0.000000</td>\n",
       "      <td>1.000000</td>\n",
       "      <td>0.000000</td>\n",
       "      <td>0.000000</td>\n",
       "    </tr>\n",
       "    <tr>\n",
       "      <th>25%</th>\n",
       "      <td>3.019625e+05</td>\n",
       "      <td>1.000000</td>\n",
       "      <td>77.081343</td>\n",
       "      <td>28.478713</td>\n",
       "      <td>250.000000</td>\n",
       "      <td>1.000000</td>\n",
       "      <td>2.500000</td>\n",
       "      <td>5.000000</td>\n",
       "    </tr>\n",
       "    <tr>\n",
       "      <th>50%</th>\n",
       "      <td>6.004089e+06</td>\n",
       "      <td>1.000000</td>\n",
       "      <td>77.191964</td>\n",
       "      <td>28.570469</td>\n",
       "      <td>400.000000</td>\n",
       "      <td>2.000000</td>\n",
       "      <td>3.200000</td>\n",
       "      <td>31.000000</td>\n",
       "    </tr>\n",
       "    <tr>\n",
       "      <th>75%</th>\n",
       "      <td>1.835229e+07</td>\n",
       "      <td>1.000000</td>\n",
       "      <td>77.282006</td>\n",
       "      <td>28.642758</td>\n",
       "      <td>700.000000</td>\n",
       "      <td>2.000000</td>\n",
       "      <td>3.700000</td>\n",
       "      <td>131.000000</td>\n",
       "    </tr>\n",
       "    <tr>\n",
       "      <th>max</th>\n",
       "      <td>1.850065e+07</td>\n",
       "      <td>216.000000</td>\n",
       "      <td>174.832089</td>\n",
       "      <td>55.976980</td>\n",
       "      <td>800000.000000</td>\n",
       "      <td>4.000000</td>\n",
       "      <td>4.900000</td>\n",
       "      <td>10934.000000</td>\n",
       "    </tr>\n",
       "  </tbody>\n",
       "</table>\n",
       "</div>"
      ],
      "text/plain": [
       "       Restaurant ID  Country Code    Longitude     Latitude  \\\n",
       "count   9.551000e+03   9551.000000  9551.000000  9551.000000   \n",
       "mean    9.051128e+06     18.365616    64.126574    25.854381   \n",
       "std     8.791521e+06     56.750546    41.467058    11.007935   \n",
       "min     5.300000e+01      1.000000  -157.948486   -41.330428   \n",
       "25%     3.019625e+05      1.000000    77.081343    28.478713   \n",
       "50%     6.004089e+06      1.000000    77.191964    28.570469   \n",
       "75%     1.835229e+07      1.000000    77.282006    28.642758   \n",
       "max     1.850065e+07    216.000000   174.832089    55.976980   \n",
       "\n",
       "       Average Cost for two  Price range  Aggregate rating         Votes  \n",
       "count           9551.000000  9551.000000       9551.000000   9551.000000  \n",
       "mean            1199.210763     1.804837          2.666370    156.909748  \n",
       "std            16121.183073     0.905609          1.516378    430.169145  \n",
       "min                0.000000     1.000000          0.000000      0.000000  \n",
       "25%              250.000000     1.000000          2.500000      5.000000  \n",
       "50%              400.000000     2.000000          3.200000     31.000000  \n",
       "75%              700.000000     2.000000          3.700000    131.000000  \n",
       "max           800000.000000     4.000000          4.900000  10934.000000  "
      ]
     },
     "metadata": {},
     "output_type": "display_data"
    }
   ],
   "source": [
    "import pandas as pd\n",
    "df = pd.read_csv('Dataset .csv')\n",
    "print(\"Descriptive statistics for numerical columns:\")\n",
    "display(df.describe())"
   ]
  },
  {
   "cell_type": "markdown",
   "id": "aac75c7e-1ed7-4627-9786-a0081d40d918",
   "metadata": {},
   "source": [
    "## Explore distribution of categorical variables"
   ]
  },
  {
   "cell_type": "markdown",
   "id": "b89cc9a6-08a6-4de0-9876-053212750639",
   "metadata": {},
   "source": [
    "### Country Code distribution"
   ]
  },
  {
   "cell_type": "code",
   "execution_count": 2,
   "id": "0e822a08-0a90-4f6a-b31d-2d1ebc309425",
   "metadata": {},
   "outputs": [
    {
     "name": "stdout",
     "output_type": "stream",
     "text": [
      "\n",
      "Country Code distribution:\n"
     ]
    },
    {
     "data": {
      "text/plain": [
       "Country Code\n",
       "1      8652\n",
       "216     434\n",
       "215      80\n",
       "30       60\n",
       "189      60\n",
       "214      60\n",
       "148      40\n",
       "208      34\n",
       "14       24\n",
       "162      22\n",
       "94       21\n",
       "166      20\n",
       "184      20\n",
       "191      20\n",
       "37        4\n",
       "Name: count, dtype: int64"
      ]
     },
     "metadata": {},
     "output_type": "display_data"
    }
   ],
   "source": [
    "print(\"\\nCountry Code distribution:\")\n",
    "display(df['Country Code'].value_counts())"
   ]
  },
  {
   "cell_type": "markdown",
   "id": "ec93c929-8b74-4986-8c33-c5a20f87b136",
   "metadata": {},
   "source": [
    "### City distribution (top 10 for brevity)"
   ]
  },
  {
   "cell_type": "code",
   "execution_count": 3,
   "id": "5443b990-de64-4466-a402-029de7cadd7f",
   "metadata": {},
   "outputs": [
    {
     "name": "stdout",
     "output_type": "stream",
     "text": [
      "\n",
      "City distribution (top 10):\n"
     ]
    },
    {
     "data": {
      "text/plain": [
       "City\n",
       "New Delhi       5473\n",
       "Gurgaon         1118\n",
       "Noida           1080\n",
       "Faridabad        251\n",
       "Ghaziabad         25\n",
       "Bhubaneshwar      21\n",
       "Lucknow           21\n",
       "Ahmedabad         21\n",
       "Amritsar          21\n",
       "Guwahati          21\n",
       "Name: count, dtype: int64"
      ]
     },
     "metadata": {},
     "output_type": "display_data"
    }
   ],
   "source": [
    "print(\"\\nCity distribution (top 10):\")\n",
    "display(df['City'].value_counts().head(10))"
   ]
  },
  {
   "cell_type": "markdown",
   "id": "2f737e2f-dedd-4ecc-a12d-3a3ac9c808b5",
   "metadata": {},
   "source": [
    "### Cuisines distribution (top 10 for brevity)"
   ]
  },
  {
   "cell_type": "code",
   "execution_count": 4,
   "id": "a80cf2e1-fda9-4bd0-95ae-4c70dd7364f4",
   "metadata": {},
   "outputs": [
    {
     "name": "stdout",
     "output_type": "stream",
     "text": [
      "\n",
      "Cuisines distribution (top 10):\n"
     ]
    },
    {
     "data": {
      "text/plain": [
       "Cuisines\n",
       "North Indian                      936\n",
       "North Indian, Chinese             511\n",
       "Chinese                           354\n",
       "Fast Food                         354\n",
       "North Indian, Mughlai             334\n",
       "Cafe                              299\n",
       "Bakery                            218\n",
       "North Indian, Mughlai, Chinese    197\n",
       "Bakery, Desserts                  170\n",
       "Street Food                       149\n",
       "Name: count, dtype: int64"
      ]
     },
     "metadata": {},
     "output_type": "display_data"
    }
   ],
   "source": [
    "print(\"\\nCuisines distribution (top 10):\")\n",
    "display(df['Cuisines'].value_counts().head(10))"
   ]
  },
  {
   "cell_type": "markdown",
   "id": "57184c2f-4e3d-4450-bd06-4179587b07ca",
   "metadata": {},
   "source": [
    "##  Identify top cuisines with highest number of restaurants"
   ]
  },
  {
   "cell_type": "code",
   "execution_count": 5,
   "id": "5070d8ac-1c54-49ba-a44a-59115e6ef633",
   "metadata": {},
   "outputs": [
    {
     "name": "stdout",
     "output_type": "stream",
     "text": [
      "\n",
      "Top 10 cuisines with highest number of restaurants:\n",
      "Cuisines\n",
      "North Indian                      936\n",
      "North Indian, Chinese             511\n",
      "Chinese                           354\n",
      "Fast Food                         354\n",
      "North Indian, Mughlai             334\n",
      "Cafe                              299\n",
      "Bakery                            218\n",
      "North Indian, Mughlai, Chinese    197\n",
      "Bakery, Desserts                  170\n",
      "Street Food                       149\n",
      "Name: count, dtype: int64\n"
     ]
    }
   ],
   "source": [
    "# Top 10 cuisines with most restaurants\n",
    "top_cuisines = df['Cuisines'].value_counts().head(10)\n",
    "print(\"\\nTop 10 cuisines with highest number of restaurants:\")\n",
    "print(top_cuisines)"
   ]
  },
  {
   "cell_type": "markdown",
   "id": "b8707efb-1aee-491c-98fe-e5737995c535",
   "metadata": {},
   "source": [
    "## Visualize the top cuisines"
   ]
  },
  {
   "cell_type": "code",
   "execution_count": 6,
   "id": "bbb6c64a-3f80-4fd8-9e48-6e59ea889d53",
   "metadata": {},
   "outputs": [
    {
     "data": {
      "image/png": "[encoded data removed]",
      "text/plain": [
       "<Figure size 1000x500 with 1 Axes>"
      ]
     },
     "metadata": {},
     "output_type": "display_data"
    }
   ],
   "source": [
    "import matplotlib.pyplot as plt\n",
    "import seaborn as sns\n",
    "\n",
    "# Plot top cuisines\n",
    "plt.figure(figsize=(10,5))\n",
    "sns.barplot(\n",
    "    x=top_cuisines.values,\n",
    "    y=top_cuisines.index,\n",
    "    hue=top_cuisines.index,  \n",
    "    palette='plasma',\n",
    "    legend=False\n",
    ")\n",
    "plt.title('Top 10 Cuisines with Most Restaurants')\n",
    "plt.xlabel('Number of Restaurants')\n",
    "plt.ylabel('Cuisine')\n",
    "plt.show()\n"
   ]
  },
  {
   "cell_type": "markdown",
   "id": "58e5760e-aeda-4687-9cc5-43a143657c93",
   "metadata": {},
   "source": [
    " ##  Identify top cities with highest number of restaurants"
   ]
  },
  {
   "cell_type": "code",
   "execution_count": 7,
   "id": "0b6eff98-e504-4f0c-bcf8-1079354004d1",
   "metadata": {},
   "outputs": [
    {
     "name": "stdout",
     "output_type": "stream",
     "text": [
      "\n",
      "Top 10 cities with highest number of restaurants:\n",
      "City\n",
      "New Delhi       5473\n",
      "Gurgaon         1118\n",
      "Noida           1080\n",
      "Faridabad        251\n",
      "Ghaziabad         25\n",
      "Bhubaneshwar      21\n",
      "Lucknow           21\n",
      "Ahmedabad         21\n",
      "Amritsar          21\n",
      "Guwahati          21\n",
      "Name: count, dtype: int64\n"
     ]
    }
   ],
   "source": [
    "# Top 10 cities with most restaurants\n",
    "top_cities = df['City'].value_counts().head(10)\n",
    "print(\"\\nTop 10 cities with highest number of restaurants:\")\n",
    "print(top_cities)"
   ]
  },
  {
   "cell_type": "markdown",
   "id": "5c5c7733-389e-4bb8-a353-390c3e1f04b8",
   "metadata": {},
   "source": [
    "## Visualize the top cities"
   ]
  },
  {
   "cell_type": "code",
   "execution_count": 8,
   "id": "c725491b-bb49-4252-ad4b-d6fefcba6394",
   "metadata": {},
   "outputs": [
    {
     "data": {
      "image/png": "[encoded data removed]",
      "text/plain": [
       "<Figure size 1000x500 with 1 Axes>"
      ]
     },
     "metadata": {},
     "output_type": "display_data"
    }
   ],
   "source": [
    "\n",
    "# Plot top cities\n",
    "plt.figure(figsize=(10,5))\n",
    "sns.barplot(\n",
    "    x=top_cities.values,\n",
    "    y=top_cities.index,\n",
    "    hue=top_cities.index,    \n",
    "    palette='viridis',\n",
    "    legend=False\n",
    ")\n",
    "plt.title('Top 10 Cities with Most Restaurants')\n",
    "plt.xlabel('Number of Restaurants')\n",
    "plt.ylabel('City')\n",
    "plt.show()\n"
   ]
  }
 ],
 "metadata": {
  "kernelspec": {
   "display_name": "Python 3 (ipykernel)",
   "language": "python",
   "name": "python3"
  },
  "language_info": {
   "codemirror_mode": {
    "name": "ipython",
    "version": 3
   },
   "file_extension": ".py",
   "mimetype": "text/x-python",
   "name": "python",
   "nbconvert_exporter": "python",
   "pygments_lexer": "ipython3",
   "version": "3.12.5"
  }
 },
 "nbformat": 4,
 "nbformat_minor": 5
}
