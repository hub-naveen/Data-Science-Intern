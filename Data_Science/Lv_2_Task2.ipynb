{
 "cells": [
  {
   "cell_type": "markdown",
   "id": "c0a85040-1378-437f-a4c4-71d16a0ab774",
   "metadata": {},
   "source": [
    "# Price Range Analysis "
   ]
  },
  {
   "cell_type": "code",
   "execution_count": 1,
   "id": "db8d81d7-3a5f-406f-a4ac-f2751207b451",
   "metadata": {},
   "outputs": [],
   "source": [
    "import pandas as pd\n",
    "df = pd.read_csv('Dataset .csv')"
   ]
  },
  {
   "cell_type": "markdown",
   "id": "0bdca443-d85b-4f28-a042-2e2c9357162c",
   "metadata": {},
   "source": [
    "## Find the most common price range"
   ]
  },
  {
   "cell_type": "code",
   "execution_count": 2,
   "id": "21e0abc0-7f76-440b-a165-18ef19b6ed0b",
   "metadata": {},
   "outputs": [
    {
     "name": "stdout",
     "output_type": "stream",
     "text": [
      "\n",
      "Most common price range among all restaurants: 1\n"
     ]
    }
   ],
   "source": [
    "most_common_price_range = df['Price range'].mode()[0]\n",
    "print(f\"\\nMost common price range among all restaurants: {most_common_price_range}\")"
   ]
  },
  {
   "cell_type": "markdown",
   "id": "9ebb2f04-7402-4868-a2c6-c95050ed4a70",
   "metadata": {},
   "source": [
    "## Use only rated restaurants"
   ]
  },
  {
   "cell_type": "code",
   "execution_count": 3,
   "id": "c270aa11-44a4-4fcd-b85e-d5198ae127bb",
   "metadata": {},
   "outputs": [
    {
     "name": "stdout",
     "output_type": "stream",
     "text": [
      "\n",
      "Average rating for each price range:\n"
     ]
    },
    {
     "data": {
      "text/plain": [
       "Price range\n",
       "1    3.238885\n",
       "2    3.377167\n",
       "3    3.777276\n",
       "4    3.890957\n",
       "Name: Aggregate rating, dtype: float64"
      ]
     },
     "metadata": {},
     "output_type": "display_data"
    }
   ],
   "source": [
    "rated_df = df[df['Aggregate rating'] > 0]\n",
    "\n",
    "# Group by price range and calculate average rating\n",
    "avg_rating_per_price = rated_df.groupby('Price range')['Aggregate rating'].mean()\n",
    "print(\"\\nAverage rating for each price range:\")\n",
    "display(avg_rating_per_price)"
   ]
  },
  {
   "cell_type": "markdown",
   "id": "d69138a6-2441-4fed-9f99-19b1f3b42ba5",
   "metadata": {},
   "source": [
    "## Identify the color representing the highest average rating"
   ]
  },
  {
   "cell_type": "code",
   "execution_count": 4,
   "id": "526d4e8d-1e91-487c-af44-8282cd179c8e",
   "metadata": {},
   "outputs": [
    {
     "name": "stdout",
     "output_type": "stream",
     "text": [
      "\n",
      "Price range with the highest average rating: 4\n",
      "Color representing the highest average rating among different price ranges: Yellow\n"
     ]
    }
   ],
   "source": [
    "# Find the price range with highest average rating\n",
    "highest_avg_rating_price_range = avg_rating_per_price.idxmax()\n",
    "print(f\"\\nPrice range with the highest average rating: {highest_avg_rating_price_range}\")\n",
    "\n",
    "# Find the most common rating color in that price range\n",
    "# (if multiple restaurants have different colors)\n",
    "color_in_highest = rated_df[rated_df['Price range'] == highest_avg_rating_price_range]['Rating color'].mode()[0]\n",
    "print(f\"Color representing the highest average rating among different price ranges: {color_in_highest}\")"
   ]
  },
  {
   "cell_type": "markdown",
   "id": "8e9f2ec2-7712-4187-8d9a-2118dab932d3",
   "metadata": {},
   "source": [
    "## Plot"
   ]
  },
  {
   "cell_type": "code",
   "execution_count": 5,
   "id": "8e3882cc-1f16-4465-a28f-c6950f77e5a9",
   "metadata": {},
   "outputs": [
    {
     "data": {
      "image/png": "[encoded data removed]",
      "text/plain": [
       "<Figure size 800x500 with 1 Axes>"
      ]
     },
     "metadata": {},
     "output_type": "display_data"
    }
   ],
   "source": [
    "import matplotlib.pyplot as plt\n",
    "import seaborn as sns\n",
    "\n",
    "plt.figure(figsize=(8,5))\n",
    "sns.barplot(x=avg_rating_per_price.index, \n",
    "            y=avg_rating_per_price.values, \n",
    "            hue=avg_rating_per_price.index, \n",
    "            palette='viridis', \n",
    "            legend=False)\n",
    "plt.title('Average Rating by Price Range')\n",
    "plt.xlabel('Price Range')\n",
    "plt.ylabel('Average Aggregate Rating')\n",
    "plt.show()"
   ]
  }
 ],
 "metadata": {
  "kernelspec": {
   "display_name": "Python 3 (ipykernel)",
   "language": "python",
   "name": "python3"
  },
  "language_info": {
   "codemirror_mode": {
    "name": "ipython",
    "version": 3
   },
   "file_extension": ".py",
   "mimetype": "text/x-python",
   "name": "python",
   "nbconvert_exporter": "python",
   "pygments_lexer": "ipython3",
   "version": "3.13.5"
  },
  "widgets": {
   "application/vnd.jupyter.widget-state+json": {
    "state": {},
    "version_major": 2,
    "version_minor": 0
   }
  }
 },
 "nbformat": 4,
 "nbformat_minor": 5
}
